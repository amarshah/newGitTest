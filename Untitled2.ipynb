{
 "metadata": {
  "name": "",
  "signature": "sha256:c805674f4b5e309f9ec0c7792f92177c14ee7b5db6462c98dfa6829af9741c97"
 },
 "nbformat": 3,
 "nbformat_minor": 0,
 "worksheets": [
  {
   "cells": [
    {
     "cell_type": "code",
     "collapsed": false,
     "input": [
      "print(__doc__)\n",
      "\n",
      "\n",
      "# Code source: Gael Varoqueux\n",
      "# Modified for Documentation merge by Jaques Grobler\n",
      "# License: BSD 3 clause\n",
      "\n",
      "\n",
      "import numpy as np\n",
      "import pylab as pl\n",
      "\n",
      "from sklearn import linear_model, decomposition, datasets\n",
      "\n",
      "logistic = linear_model.LogisticRegression()\n",
      "\n",
      "pca = decomposition.PCA()\n",
      "from sklearn.pipeline import Pipeline\n",
      "pipe = Pipeline(steps=[('pca', pca), ('logistic', logistic)])\n",
      "\n",
      "digits = datasets.load_digits()\n",
      "X_digits = digits.data\n",
      "y_digits = digits.target\n",
      "\n",
      "###############################################################################\n",
      "# Plot the PCA spectrum\n",
      "pca.fit(X_digits)\n",
      "\n",
      "pl.figure(1, figsize=(4, 3))\n",
      "pl.clf()\n",
      "pl.axes([.2, .2, .7, .7])\n",
      "pl.plot(pca.explained_variance_, linewidth=2)\n",
      "pl.axis('tight')\n",
      "pl.xlabel('n_components')\n",
      "pl.ylabel('explained_variance_')\n",
      "\n",
      "###############################################################################\n",
      "# Prediction\n",
      "\n",
      "from sklearn.grid_search import GridSearchCV\n",
      "\n",
      "n_components = [20, 40, 64]\n",
      "Cs = np.logspace(-4, 4, 3)\n",
      "\n",
      "#Parameters of pipelines can be set using \u2018__\u2019 separated parameter names:\n",
      "\n",
      "estimator = GridSearchCV(pipe,\n",
      "                         dict(pca__n_components=n_components,\n",
      "                              logistic__C=Cs))\n",
      "estimator.fit(X_digits, y_digits)\n",
      "\n",
      "pl.axvline(estimator.best_estimator_.named_steps['pca'].n_components,\n",
      "           linestyle=':', label='n_components chosen')\n",
      "pl.legend(prop=dict(size=12))\n",
      "pl.show()"
     ],
     "language": "python",
     "metadata": {},
     "outputs": [
      {
       "output_type": "stream",
       "stream": "stdout",
       "text": [
        "Automatically created module for IPython interactive environment\n"
       ]
      },
      {
       "metadata": {},
       "output_type": "display_data",
       "png": "[encoded data removed]",
       "text": [
        "<matplotlib.figure.Figure at 0xae15208>"
       ]
      }
     ],
     "prompt_number": 4
    }
   ],
   "metadata": {}
  }
 ]
}